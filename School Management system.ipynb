{
 "cells": [
  {
   "cell_type": "markdown",
   "id": "52e080e2-4a47-4f03-82e3-e499cbbf343e",
   "metadata": {},
   "source": [
    "Project Title: School Management System"
   ]
  },
  {
   "cell_type": "markdown",
   "id": "9b47387d-6d4a-48e1-997b-4f78f33e5cae",
   "metadata": {},
   "source": [
    "Purpose\n",
    "The purpose of a School Management System in a MySQL project includes:\n",
    "Centralized Data Management: Store and manage all school data in one place.\n",
    "Student Management: Track student information, performance, and attendance.\n",
    "Teacher and Staff Management: Manage staff details, schedules, and performance.\n",
    "Course Management: Organize courses, schedules, and curriculum details.\n",
    "Attendance Tracking: Record and monitor attendance.\n",
    "Examination Management: Schedule exams and store results.\n",
    "Fee Management: Handle school fees and financial transactions.\n",
    "Communication: Improve communication among students, teachers, and parents.\n",
    "Report Generation: Create various academic and administrative reports.\n",
    "User Role Management: Define user roles and access permissions.\n",
    "Scalability: Support growing numbers of users and data.\n",
    "Data Security: Ensure data protection and regular backups."
   ]
  },
  {
   "cell_type": "markdown",
   "id": "806acf90-900c-4882-87bc-88a03c686585",
   "metadata": {},
   "source": [
    "Step 1:importing necessary packages"
   ]
  },
  {
   "cell_type": "code",
   "execution_count": 37,
   "id": "311ed931-abf3-4fcc-8df3-b55edfa02825",
   "metadata": {},
   "outputs": [],
   "source": [
    "import mysql.connector\n",
    "import pandas as pd\n",
    "import matplotlib.pyplot as plt"
   ]
  },
  {
   "cell_type": "markdown",
   "id": "e7ad24fe-caa6-41ce-8465-fae7d945583d",
   "metadata": {},
   "source": [
    "Step 2:Dowloading necessary packages"
   ]
  },
  {
   "cell_type": "code",
   "execution_count": 38,
   "id": "4bd9f875-8cc1-4f37-a827-4bde8be5b966",
   "metadata": {},
   "outputs": [
    {
     "name": "stdout",
     "output_type": "stream",
     "text": [
      "Defaulting to user installation because normal site-packages is not writeableNote: you may need to restart the kernel to use updated packages.\n",
      "\n",
      "Requirement already satisfied: mysql.connector in c:\\users\\anupriya.m\\appdata\\roaming\\python\\python311\\site-packages (2.2.9)\n"
     ]
    }
   ],
   "source": [
    "pip install mysql.connector"
   ]
  },
  {
   "cell_type": "code",
   "execution_count": 39,
   "id": "89eba57d-2270-4d87-8048-f64091e8d6d9",
   "metadata": {},
   "outputs": [
    {
     "name": "stdout",
     "output_type": "stream",
     "text": [
      "Defaulting to user installation because normal site-packages is not writeable\n",
      "Requirement already satisfied: mysql-connector-python in c:\\users\\anupriya.m\\appdata\\roaming\\python\\python311\\site-packages (8.4.0)\n",
      "Note: you may need to restart the kernel to use updated packages.\n"
     ]
    }
   ],
   "source": [
    "pip install mysql-connector-python"
   ]
  },
  {
   "cell_type": "code",
   "execution_count": 40,
   "id": "ea66f383-bbfc-4aa2-b9d4-e0efee43bd79",
   "metadata": {},
   "outputs": [
    {
     "name": "stdout",
     "output_type": "stream",
     "text": [
      "Defaulting to user installation because normal site-packages is not writeable\n",
      "Requirement already satisfied: mysql in c:\\users\\anupriya.m\\appdata\\roaming\\python\\python311\\site-packages (0.0.3)\n",
      "Requirement already satisfied: mysqlclient in c:\\users\\anupriya.m\\appdata\\roaming\\python\\python311\\site-packages (from mysql) (2.2.4)\n",
      "Note: you may need to restart the kernel to use updated packages.\n"
     ]
    }
   ],
   "source": [
    "pip install mysql"
   ]
  },
  {
   "cell_type": "code",
   "execution_count": 132,
   "id": "0894f4bb-ad74-49de-a6e1-eb7166b402dd",
   "metadata": {},
   "outputs": [
    {
     "name": "stdout",
     "output_type": "stream",
     "text": [
      "Defaulting to user installation because normal site-packages is not writeable\n",
      "Requirement already satisfied: matplotlib in c:\\programdata\\anaconda3\\lib\\site-packages (3.8.0)\n",
      "Requirement already satisfied: contourpy>=1.0.1 in c:\\programdata\\anaconda3\\lib\\site-packages (from matplotlib) (1.2.0)\n",
      "Requirement already satisfied: cycler>=0.10 in c:\\programdata\\anaconda3\\lib\\site-packages (from matplotlib) (0.11.0)\n",
      "Requirement already satisfied: fonttools>=4.22.0 in c:\\programdata\\anaconda3\\lib\\site-packages (from matplotlib) (4.25.0)\n",
      "Requirement already satisfied: kiwisolver>=1.0.1 in c:\\programdata\\anaconda3\\lib\\site-packages (from matplotlib) (1.4.4)\n",
      "Requirement already satisfied: numpy<2,>=1.21 in c:\\programdata\\anaconda3\\lib\\site-packages (from matplotlib) (1.26.4)\n",
      "Requirement already satisfied: packaging>=20.0 in c:\\programdata\\anaconda3\\lib\\site-packages (from matplotlib) (23.1)\n",
      "Requirement already satisfied: pillow>=6.2.0 in c:\\programdata\\anaconda3\\lib\\site-packages (from matplotlib) (10.2.0)\n",
      "Requirement already satisfied: pyparsing>=2.3.1 in c:\\programdata\\anaconda3\\lib\\site-packages (from matplotlib) (3.0.9)\n",
      "Requirement already satisfied: python-dateutil>=2.7 in c:\\programdata\\anaconda3\\lib\\site-packages (from matplotlib) (2.8.2)\n",
      "Requirement already satisfied: six>=1.5 in c:\\programdata\\anaconda3\\lib\\site-packages (from python-dateutil>=2.7->matplotlib) (1.16.0)\n"
     ]
    }
   ],
   "source": [
    "!pip install matplotlib"
   ]
  },
  {
   "cell_type": "markdown",
   "id": "b630359e-3845-4482-b2e4-278df0e450ad",
   "metadata": {},
   "source": [
    "Step 3:Establishing Connection "
   ]
  },
  {
   "cell_type": "code",
   "execution_count": 41,
   "id": "d6eee639-2b6d-44db-abde-1c6f5f2f8eaf",
   "metadata": {},
   "outputs": [],
   "source": [
    "from mysql import connector"
   ]
  },
  {
   "cell_type": "code",
   "execution_count": 42,
   "id": "09d86413-31d8-484b-b9d7-1c8a3a487e42",
   "metadata": {},
   "outputs": [],
   "source": [
    "#connecting to MySQL database using mysql-connector-python\n",
    "connection=mysql.connector.connect(user='root',password='anuhoney',host='127.0.0.1',database='schoolmanagementsystem')"
   ]
  },
  {
   "cell_type": "markdown",
   "id": "6a11ef91-1d96-49a6-aacf-df9a3f72cfe9",
   "metadata": {},
   "source": [
    "Step 4:Data View"
   ]
  },
  {
   "cell_type": "code",
   "execution_count": 43,
   "id": "b48b177e-d904-457d-b3f1-45a5c2bb1047",
   "metadata": {},
   "outputs": [],
   "source": [
    "# Create a cursor object to execute SQL queries\n",
    "cursor=connection.cursor()"
   ]
  },
  {
   "cell_type": "code",
   "execution_count": 44,
   "id": "b4b18006-d964-4535-980c-9cd135cb3938",
   "metadata": {},
   "outputs": [],
   "source": [
    "# Query data from the 'student' table\n",
    "cursor.execute('SELECT * FROM  students')"
   ]
  },
  {
   "cell_type": "code",
   "execution_count": 45,
   "id": "8866635a-300f-457c-865d-cd8dff68407c",
   "metadata": {},
   "outputs": [],
   "source": [
    "#After fetching data from the database we are storing it into Pandas DataFrame\n",
    "student_data=pd.DataFrame(cursor.fetchall(),columns=[desc[0] for desc in cursor.description])"
   ]
  },
  {
   "cell_type": "code",
   "execution_count": 48,
   "id": "c960bd6d-6dd4-4452-a22b-118960c16071",
   "metadata": {},
   "outputs": [
    {
     "data": {
      "text/html": [
       "<div>\n",
       "<style scoped>\n",
       "    .dataframe tbody tr th:only-of-type {\n",
       "        vertical-align: middle;\n",
       "    }\n",
       "\n",
       "    .dataframe tbody tr th {\n",
       "        vertical-align: top;\n",
       "    }\n",
       "\n",
       "    .dataframe thead th {\n",
       "        text-align: right;\n",
       "    }\n",
       "</style>\n",
       "<table border=\"1\" class=\"dataframe\">\n",
       "  <thead>\n",
       "    <tr style=\"text-align: right;\">\n",
       "      <th></th>\n",
       "      <th>student_id</th>\n",
       "      <th>first_name</th>\n",
       "      <th>last_name</th>\n",
       "      <th>date_of_birth</th>\n",
       "      <th>gender</th>\n",
       "      <th>address_id</th>\n",
       "      <th>phone_number</th>\n",
       "      <th>email</th>\n",
       "      <th>enrollment_date</th>\n",
       "      <th>class_id</th>\n",
       "    </tr>\n",
       "  </thead>\n",
       "  <tbody>\n",
       "    <tr>\n",
       "      <th>0</th>\n",
       "      <td>1</td>\n",
       "      <td>John</td>\n",
       "      <td>Doe</td>\n",
       "      <td>2005-01-01</td>\n",
       "      <td>Male</td>\n",
       "      <td>1</td>\n",
       "      <td>555-1234</td>\n",
       "      <td>john.doe1@example.com</td>\n",
       "      <td>2022-09-01</td>\n",
       "      <td>1</td>\n",
       "    </tr>\n",
       "    <tr>\n",
       "      <th>1</th>\n",
       "      <td>2</td>\n",
       "      <td>Jane</td>\n",
       "      <td>Smith</td>\n",
       "      <td>2006-02-02</td>\n",
       "      <td>Female</td>\n",
       "      <td>2</td>\n",
       "      <td>555-1235</td>\n",
       "      <td>jane.smith2@example.com</td>\n",
       "      <td>2022-09-01</td>\n",
       "      <td>2</td>\n",
       "    </tr>\n",
       "    <tr>\n",
       "      <th>2</th>\n",
       "      <td>3</td>\n",
       "      <td>Alice</td>\n",
       "      <td>Johnson</td>\n",
       "      <td>2007-03-03</td>\n",
       "      <td>Female</td>\n",
       "      <td>3</td>\n",
       "      <td>555-1236</td>\n",
       "      <td>alice.johnson3@example.com</td>\n",
       "      <td>2022-09-01</td>\n",
       "      <td>3</td>\n",
       "    </tr>\n",
       "    <tr>\n",
       "      <th>3</th>\n",
       "      <td>4</td>\n",
       "      <td>Bob</td>\n",
       "      <td>Williams</td>\n",
       "      <td>2005-04-04</td>\n",
       "      <td>Male</td>\n",
       "      <td>4</td>\n",
       "      <td>555-1237</td>\n",
       "      <td>bob.williams4@example.com</td>\n",
       "      <td>2022-09-01</td>\n",
       "      <td>4</td>\n",
       "    </tr>\n",
       "    <tr>\n",
       "      <th>4</th>\n",
       "      <td>5</td>\n",
       "      <td>Charlie</td>\n",
       "      <td>Brown</td>\n",
       "      <td>2006-05-05</td>\n",
       "      <td>Male</td>\n",
       "      <td>5</td>\n",
       "      <td>555-1238</td>\n",
       "      <td>charlie.brown5@example.com</td>\n",
       "      <td>2022-09-01</td>\n",
       "      <td>5</td>\n",
       "    </tr>\n",
       "    <tr>\n",
       "      <th>...</th>\n",
       "      <td>...</td>\n",
       "      <td>...</td>\n",
       "      <td>...</td>\n",
       "      <td>...</td>\n",
       "      <td>...</td>\n",
       "      <td>...</td>\n",
       "      <td>...</td>\n",
       "      <td>...</td>\n",
       "      <td>...</td>\n",
       "      <td>...</td>\n",
       "    </tr>\n",
       "    <tr>\n",
       "      <th>95</th>\n",
       "      <td>96</td>\n",
       "      <td>Paige</td>\n",
       "      <td>West</td>\n",
       "      <td>2007-12-04</td>\n",
       "      <td>Female</td>\n",
       "      <td>96</td>\n",
       "      <td>555-1329</td>\n",
       "      <td>paige.west96@example.com</td>\n",
       "      <td>2022-09-01</td>\n",
       "      <td>1</td>\n",
       "    </tr>\n",
       "    <tr>\n",
       "      <th>96</th>\n",
       "      <td>97</td>\n",
       "      <td>Quinn</td>\n",
       "      <td>Torres</td>\n",
       "      <td>2005-01-05</td>\n",
       "      <td>Male</td>\n",
       "      <td>97</td>\n",
       "      <td>555-1330</td>\n",
       "      <td>quinn.torres97@example.com</td>\n",
       "      <td>2022-09-01</td>\n",
       "      <td>2</td>\n",
       "    </tr>\n",
       "    <tr>\n",
       "      <th>97</th>\n",
       "      <td>98</td>\n",
       "      <td>Rose</td>\n",
       "      <td>Brooks</td>\n",
       "      <td>2006-02-06</td>\n",
       "      <td>Female</td>\n",
       "      <td>98</td>\n",
       "      <td>555-1331</td>\n",
       "      <td>rose.brooks98@example.com</td>\n",
       "      <td>2022-09-01</td>\n",
       "      <td>3</td>\n",
       "    </tr>\n",
       "    <tr>\n",
       "      <th>98</th>\n",
       "      <td>99</td>\n",
       "      <td>Sean</td>\n",
       "      <td>Perry</td>\n",
       "      <td>2007-03-07</td>\n",
       "      <td>Male</td>\n",
       "      <td>99</td>\n",
       "      <td>555-1332</td>\n",
       "      <td>sean.perry99@example.com</td>\n",
       "      <td>2022-09-01</td>\n",
       "      <td>4</td>\n",
       "    </tr>\n",
       "    <tr>\n",
       "      <th>99</th>\n",
       "      <td>100</td>\n",
       "      <td>Tina</td>\n",
       "      <td>Flores</td>\n",
       "      <td>2005-04-08</td>\n",
       "      <td>Female</td>\n",
       "      <td>100</td>\n",
       "      <td>555-1333</td>\n",
       "      <td>tina.flores100@example.com</td>\n",
       "      <td>2022-09-01</td>\n",
       "      <td>5</td>\n",
       "    </tr>\n",
       "  </tbody>\n",
       "</table>\n",
       "<p>100 rows × 10 columns</p>\n",
       "</div>"
      ],
      "text/plain": [
       "    student_id first_name last_name date_of_birth  gender  address_id  \\\n",
       "0            1       John       Doe    2005-01-01    Male           1   \n",
       "1            2       Jane     Smith    2006-02-02  Female           2   \n",
       "2            3      Alice   Johnson    2007-03-03  Female           3   \n",
       "3            4        Bob  Williams    2005-04-04    Male           4   \n",
       "4            5    Charlie     Brown    2006-05-05    Male           5   \n",
       "..         ...        ...       ...           ...     ...         ...   \n",
       "95          96      Paige      West    2007-12-04  Female          96   \n",
       "96          97      Quinn    Torres    2005-01-05    Male          97   \n",
       "97          98       Rose    Brooks    2006-02-06  Female          98   \n",
       "98          99       Sean     Perry    2007-03-07    Male          99   \n",
       "99         100       Tina    Flores    2005-04-08  Female         100   \n",
       "\n",
       "   phone_number                       email enrollment_date  class_id  \n",
       "0      555-1234       john.doe1@example.com      2022-09-01         1  \n",
       "1      555-1235     jane.smith2@example.com      2022-09-01         2  \n",
       "2      555-1236  alice.johnson3@example.com      2022-09-01         3  \n",
       "3      555-1237   bob.williams4@example.com      2022-09-01         4  \n",
       "4      555-1238  charlie.brown5@example.com      2022-09-01         5  \n",
       "..          ...                         ...             ...       ...  \n",
       "95     555-1329    paige.west96@example.com      2022-09-01         1  \n",
       "96     555-1330  quinn.torres97@example.com      2022-09-01         2  \n",
       "97     555-1331   rose.brooks98@example.com      2022-09-01         3  \n",
       "98     555-1332    sean.perry99@example.com      2022-09-01         4  \n",
       "99     555-1333  tina.flores100@example.com      2022-09-01         5  \n",
       "\n",
       "[100 rows x 10 columns]"
      ]
     },
     "execution_count": 48,
     "metadata": {},
     "output_type": "execute_result"
    }
   ],
   "source": [
    "student_data"
   ]
  },
  {
   "cell_type": "code",
   "execution_count": 49,
   "id": "a27a1fb6-f297-4c14-ae65-e36f526bc8f1",
   "metadata": {},
   "outputs": [],
   "source": [
    "# Query data from the 'student' table\n",
    "cursor.execute('SELECT * FROM  subjects')"
   ]
  },
  {
   "cell_type": "code",
   "execution_count": 50,
   "id": "6a4935bc-7ea8-498e-a797-e822a526ace6",
   "metadata": {},
   "outputs": [],
   "source": [
    "#After fetching data from the database we are storing it into Pandas DataFrame\n",
    "subjects_data=pd.DataFrame(cursor.fetchall(),columns=[desc[0] for desc in cursor.description])"
   ]
  },
  {
   "cell_type": "code",
   "execution_count": 51,
   "id": "ce133aa6-f1d0-44dc-a94c-75c5215f8764",
   "metadata": {},
   "outputs": [
    {
     "data": {
      "text/html": [
       "<div>\n",
       "<style scoped>\n",
       "    .dataframe tbody tr th:only-of-type {\n",
       "        vertical-align: middle;\n",
       "    }\n",
       "\n",
       "    .dataframe tbody tr th {\n",
       "        vertical-align: top;\n",
       "    }\n",
       "\n",
       "    .dataframe thead th {\n",
       "        text-align: right;\n",
       "    }\n",
       "</style>\n",
       "<table border=\"1\" class=\"dataframe\">\n",
       "  <thead>\n",
       "    <tr style=\"text-align: right;\">\n",
       "      <th></th>\n",
       "      <th>subject_id</th>\n",
       "      <th>subject_name</th>\n",
       "      <th>class_id</th>\n",
       "    </tr>\n",
       "  </thead>\n",
       "  <tbody>\n",
       "    <tr>\n",
       "      <th>0</th>\n",
       "      <td>101</td>\n",
       "      <td>Mathematics</td>\n",
       "      <td>1</td>\n",
       "    </tr>\n",
       "    <tr>\n",
       "      <th>1</th>\n",
       "      <td>102</td>\n",
       "      <td>Science</td>\n",
       "      <td>2</td>\n",
       "    </tr>\n",
       "    <tr>\n",
       "      <th>2</th>\n",
       "      <td>103</td>\n",
       "      <td>English</td>\n",
       "      <td>3</td>\n",
       "    </tr>\n",
       "    <tr>\n",
       "      <th>3</th>\n",
       "      <td>104</td>\n",
       "      <td>History</td>\n",
       "      <td>4</td>\n",
       "    </tr>\n",
       "    <tr>\n",
       "      <th>4</th>\n",
       "      <td>105</td>\n",
       "      <td>Geography</td>\n",
       "      <td>5</td>\n",
       "    </tr>\n",
       "    <tr>\n",
       "      <th>...</th>\n",
       "      <td>...</td>\n",
       "      <td>...</td>\n",
       "      <td>...</td>\n",
       "    </tr>\n",
       "    <tr>\n",
       "      <th>85</th>\n",
       "      <td>186</td>\n",
       "      <td>Engineering</td>\n",
       "      <td>86</td>\n",
       "    </tr>\n",
       "    <tr>\n",
       "      <th>86</th>\n",
       "      <td>187</td>\n",
       "      <td>Civil Engineering</td>\n",
       "      <td>87</td>\n",
       "    </tr>\n",
       "    <tr>\n",
       "      <th>87</th>\n",
       "      <td>188</td>\n",
       "      <td>Mechanical Engineering</td>\n",
       "      <td>88</td>\n",
       "    </tr>\n",
       "    <tr>\n",
       "      <th>88</th>\n",
       "      <td>189</td>\n",
       "      <td>Electrical Engineering</td>\n",
       "      <td>89</td>\n",
       "    </tr>\n",
       "    <tr>\n",
       "      <th>89</th>\n",
       "      <td>190</td>\n",
       "      <td>Computer Engineering</td>\n",
       "      <td>90</td>\n",
       "    </tr>\n",
       "  </tbody>\n",
       "</table>\n",
       "<p>90 rows × 3 columns</p>\n",
       "</div>"
      ],
      "text/plain": [
       "    subject_id            subject_name  class_id\n",
       "0          101             Mathematics         1\n",
       "1          102                 Science         2\n",
       "2          103                 English         3\n",
       "3          104                 History         4\n",
       "4          105               Geography         5\n",
       "..         ...                     ...       ...\n",
       "85         186             Engineering        86\n",
       "86         187       Civil Engineering        87\n",
       "87         188  Mechanical Engineering        88\n",
       "88         189  Electrical Engineering        89\n",
       "89         190    Computer Engineering        90\n",
       "\n",
       "[90 rows x 3 columns]"
      ]
     },
     "execution_count": 51,
     "metadata": {},
     "output_type": "execute_result"
    }
   ],
   "source": [
    "subjects_data"
   ]
  },
  {
   "cell_type": "code",
   "execution_count": 52,
   "id": "41492b6e-c465-4e24-8090-187315bf8845",
   "metadata": {},
   "outputs": [],
   "source": [
    "# Query data from the 'Teacher' table\n",
    "cursor.execute('SELECT * FROM Teachers')"
   ]
  },
  {
   "cell_type": "code",
   "execution_count": 53,
   "id": "035c19a1-3d65-4901-ac70-285989cfefe1",
   "metadata": {},
   "outputs": [],
   "source": [
    "#After fetching data from the database we are storing it into Pandas DataFrame\n",
    "teachers_data=pd.DataFrame(cursor.fetchall(),columns=[desc[0] for desc in cursor.description])"
   ]
  },
  {
   "cell_type": "code",
   "execution_count": 54,
   "id": "cae72791-258b-4a5a-845e-d6f497006f90",
   "metadata": {},
   "outputs": [
    {
     "data": {
      "text/html": [
       "<div>\n",
       "<style scoped>\n",
       "    .dataframe tbody tr th:only-of-type {\n",
       "        vertical-align: middle;\n",
       "    }\n",
       "\n",
       "    .dataframe tbody tr th {\n",
       "        vertical-align: top;\n",
       "    }\n",
       "\n",
       "    .dataframe thead th {\n",
       "        text-align: right;\n",
       "    }\n",
       "</style>\n",
       "<table border=\"1\" class=\"dataframe\">\n",
       "  <thead>\n",
       "    <tr style=\"text-align: right;\">\n",
       "      <th></th>\n",
       "      <th>teacher_id</th>\n",
       "      <th>first_name</th>\n",
       "      <th>last_name</th>\n",
       "      <th>date_of_birth</th>\n",
       "      <th>gender</th>\n",
       "      <th>student_id</th>\n",
       "      <th>phone_number</th>\n",
       "      <th>email</th>\n",
       "      <th>hire_date</th>\n",
       "    </tr>\n",
       "  </thead>\n",
       "  <tbody>\n",
       "    <tr>\n",
       "      <th>0</th>\n",
       "      <td>1</td>\n",
       "      <td>Laura</td>\n",
       "      <td>Miller</td>\n",
       "      <td>1980-01-01</td>\n",
       "      <td>Female</td>\n",
       "      <td>1</td>\n",
       "      <td>555-2101</td>\n",
       "      <td>laura.miller1@example.com</td>\n",
       "      <td>2015-09-01</td>\n",
       "    </tr>\n",
       "    <tr>\n",
       "      <th>1</th>\n",
       "      <td>2</td>\n",
       "      <td>James</td>\n",
       "      <td>Brown</td>\n",
       "      <td>1975-02-02</td>\n",
       "      <td>Male</td>\n",
       "      <td>2</td>\n",
       "      <td>555-2102</td>\n",
       "      <td>james.brown2@example.com</td>\n",
       "      <td>2014-08-15</td>\n",
       "    </tr>\n",
       "    <tr>\n",
       "      <th>2</th>\n",
       "      <td>3</td>\n",
       "      <td>Linda</td>\n",
       "      <td>Johnson</td>\n",
       "      <td>1985-03-03</td>\n",
       "      <td>Female</td>\n",
       "      <td>3</td>\n",
       "      <td>555-2103</td>\n",
       "      <td>linda.johnson3@example.com</td>\n",
       "      <td>2016-07-20</td>\n",
       "    </tr>\n",
       "    <tr>\n",
       "      <th>3</th>\n",
       "      <td>4</td>\n",
       "      <td>Michael</td>\n",
       "      <td>Williams</td>\n",
       "      <td>1978-04-04</td>\n",
       "      <td>Male</td>\n",
       "      <td>4</td>\n",
       "      <td>555-2104</td>\n",
       "      <td>michael.williams4@example.com</td>\n",
       "      <td>2017-06-10</td>\n",
       "    </tr>\n",
       "    <tr>\n",
       "      <th>4</th>\n",
       "      <td>5</td>\n",
       "      <td>Patricia</td>\n",
       "      <td>Jones</td>\n",
       "      <td>1982-05-05</td>\n",
       "      <td>Female</td>\n",
       "      <td>5</td>\n",
       "      <td>555-2105</td>\n",
       "      <td>patricia.jones5@example.com</td>\n",
       "      <td>2013-05-05</td>\n",
       "    </tr>\n",
       "    <tr>\n",
       "      <th>...</th>\n",
       "      <td>...</td>\n",
       "      <td>...</td>\n",
       "      <td>...</td>\n",
       "      <td>...</td>\n",
       "      <td>...</td>\n",
       "      <td>...</td>\n",
       "      <td>...</td>\n",
       "      <td>...</td>\n",
       "      <td>...</td>\n",
       "    </tr>\n",
       "    <tr>\n",
       "      <th>95</th>\n",
       "      <td>96</td>\n",
       "      <td>Gloria</td>\n",
       "      <td>Torres</td>\n",
       "      <td>1984-12-04</td>\n",
       "      <td>Male</td>\n",
       "      <td>96</td>\n",
       "      <td>555-2196</td>\n",
       "      <td>gloria.torres96@example.com</td>\n",
       "      <td>2013-09-01</td>\n",
       "    </tr>\n",
       "    <tr>\n",
       "      <th>96</th>\n",
       "      <td>97</td>\n",
       "      <td>Jeremy</td>\n",
       "      <td>Brooks</td>\n",
       "      <td>1978-01-05</td>\n",
       "      <td>Female</td>\n",
       "      <td>97</td>\n",
       "      <td>555-2197</td>\n",
       "      <td>jeremy.brooks97@example.com</td>\n",
       "      <td>2014-07-01</td>\n",
       "    </tr>\n",
       "    <tr>\n",
       "      <th>97</th>\n",
       "      <td>98</td>\n",
       "      <td>Amanda</td>\n",
       "      <td>Perry</td>\n",
       "      <td>1982-02-06</td>\n",
       "      <td>Male</td>\n",
       "      <td>98</td>\n",
       "      <td>555-2198</td>\n",
       "      <td>amanda.perry98@example.com</td>\n",
       "      <td>2015-06-01</td>\n",
       "    </tr>\n",
       "    <tr>\n",
       "      <th>98</th>\n",
       "      <td>99</td>\n",
       "      <td>Russell</td>\n",
       "      <td>Flores</td>\n",
       "      <td>1981-03-07</td>\n",
       "      <td>Female</td>\n",
       "      <td>99</td>\n",
       "      <td>555-2199</td>\n",
       "      <td>russell.flores99@example.com</td>\n",
       "      <td>2016-05-01</td>\n",
       "    </tr>\n",
       "    <tr>\n",
       "      <th>99</th>\n",
       "      <td>100</td>\n",
       "      <td>Ruth</td>\n",
       "      <td>Flores</td>\n",
       "      <td>1983-04-08</td>\n",
       "      <td>Male</td>\n",
       "      <td>100</td>\n",
       "      <td>555-2200</td>\n",
       "      <td>ruth.flores100@example.com</td>\n",
       "      <td>2017-04-01</td>\n",
       "    </tr>\n",
       "  </tbody>\n",
       "</table>\n",
       "<p>100 rows × 9 columns</p>\n",
       "</div>"
      ],
      "text/plain": [
       "    teacher_id first_name last_name date_of_birth  gender  student_id  \\\n",
       "0            1      Laura    Miller    1980-01-01  Female           1   \n",
       "1            2      James     Brown    1975-02-02    Male           2   \n",
       "2            3      Linda   Johnson    1985-03-03  Female           3   \n",
       "3            4    Michael  Williams    1978-04-04    Male           4   \n",
       "4            5   Patricia     Jones    1982-05-05  Female           5   \n",
       "..         ...        ...       ...           ...     ...         ...   \n",
       "95          96     Gloria    Torres    1984-12-04    Male          96   \n",
       "96          97     Jeremy    Brooks    1978-01-05  Female          97   \n",
       "97          98     Amanda     Perry    1982-02-06    Male          98   \n",
       "98          99    Russell    Flores    1981-03-07  Female          99   \n",
       "99         100       Ruth    Flores    1983-04-08    Male         100   \n",
       "\n",
       "   phone_number                          email   hire_date  \n",
       "0      555-2101      laura.miller1@example.com  2015-09-01  \n",
       "1      555-2102       james.brown2@example.com  2014-08-15  \n",
       "2      555-2103     linda.johnson3@example.com  2016-07-20  \n",
       "3      555-2104  michael.williams4@example.com  2017-06-10  \n",
       "4      555-2105    patricia.jones5@example.com  2013-05-05  \n",
       "..          ...                            ...         ...  \n",
       "95     555-2196    gloria.torres96@example.com  2013-09-01  \n",
       "96     555-2197    jeremy.brooks97@example.com  2014-07-01  \n",
       "97     555-2198     amanda.perry98@example.com  2015-06-01  \n",
       "98     555-2199   russell.flores99@example.com  2016-05-01  \n",
       "99     555-2200     ruth.flores100@example.com  2017-04-01  \n",
       "\n",
       "[100 rows x 9 columns]"
      ]
     },
     "execution_count": 54,
     "metadata": {},
     "output_type": "execute_result"
    }
   ],
   "source": [
    "teachers_data"
   ]
  },
  {
   "cell_type": "code",
   "execution_count": 55,
   "id": "20c89dac-6995-4849-8aad-f460ca7d3955",
   "metadata": {},
   "outputs": [],
   "source": [
    "# Query data from the 'class' table\n",
    "cursor.execute('SELECT * FROM classes')"
   ]
  },
  {
   "cell_type": "code",
   "execution_count": 56,
   "id": "c43da1d3-ae38-487d-b441-6bb399d8dab9",
   "metadata": {},
   "outputs": [],
   "source": [
    "#After fetching data from the database we are storing it into Pandas DataFrame\n",
    "classes_data=pd.DataFrame(cursor.fetchall(),columns=[desc[0] for desc in cursor.description])"
   ]
  },
  {
   "cell_type": "code",
   "execution_count": 57,
   "id": "3360d1f1-4e5f-4d0c-a067-4b9cba3ccaf4",
   "metadata": {},
   "outputs": [
    {
     "data": {
      "text/html": [
       "<div>\n",
       "<style scoped>\n",
       "    .dataframe tbody tr th:only-of-type {\n",
       "        vertical-align: middle;\n",
       "    }\n",
       "\n",
       "    .dataframe tbody tr th {\n",
       "        vertical-align: top;\n",
       "    }\n",
       "\n",
       "    .dataframe thead th {\n",
       "        text-align: right;\n",
       "    }\n",
       "</style>\n",
       "<table border=\"1\" class=\"dataframe\">\n",
       "  <thead>\n",
       "    <tr style=\"text-align: right;\">\n",
       "      <th></th>\n",
       "      <th>class_id</th>\n",
       "      <th>class_name</th>\n",
       "      <th>teacher_id</th>\n",
       "      <th>grade_level</th>\n",
       "    </tr>\n",
       "  </thead>\n",
       "  <tbody>\n",
       "    <tr>\n",
       "      <th>0</th>\n",
       "      <td>1</td>\n",
       "      <td>Mathematics</td>\n",
       "      <td>1</td>\n",
       "      <td>10</td>\n",
       "    </tr>\n",
       "    <tr>\n",
       "      <th>1</th>\n",
       "      <td>2</td>\n",
       "      <td>Science</td>\n",
       "      <td>2</td>\n",
       "      <td>10</td>\n",
       "    </tr>\n",
       "    <tr>\n",
       "      <th>2</th>\n",
       "      <td>3</td>\n",
       "      <td>English</td>\n",
       "      <td>3</td>\n",
       "      <td>10</td>\n",
       "    </tr>\n",
       "    <tr>\n",
       "      <th>3</th>\n",
       "      <td>4</td>\n",
       "      <td>History</td>\n",
       "      <td>4</td>\n",
       "      <td>10</td>\n",
       "    </tr>\n",
       "    <tr>\n",
       "      <th>4</th>\n",
       "      <td>5</td>\n",
       "      <td>Geography</td>\n",
       "      <td>5</td>\n",
       "      <td>10</td>\n",
       "    </tr>\n",
       "    <tr>\n",
       "      <th>...</th>\n",
       "      <td>...</td>\n",
       "      <td>...</td>\n",
       "      <td>...</td>\n",
       "      <td>...</td>\n",
       "    </tr>\n",
       "    <tr>\n",
       "      <th>85</th>\n",
       "      <td>86</td>\n",
       "      <td>Recreation Management</td>\n",
       "      <td>86</td>\n",
       "      <td>11</td>\n",
       "    </tr>\n",
       "    <tr>\n",
       "      <th>86</th>\n",
       "      <td>87</td>\n",
       "      <td>Parks and Recreation</td>\n",
       "      <td>87</td>\n",
       "      <td>11</td>\n",
       "    </tr>\n",
       "    <tr>\n",
       "      <th>87</th>\n",
       "      <td>88</td>\n",
       "      <td>Hotel Management</td>\n",
       "      <td>88</td>\n",
       "      <td>11</td>\n",
       "    </tr>\n",
       "    <tr>\n",
       "      <th>88</th>\n",
       "      <td>89</td>\n",
       "      <td>Restaurant Management</td>\n",
       "      <td>89</td>\n",
       "      <td>11</td>\n",
       "    </tr>\n",
       "    <tr>\n",
       "      <th>89</th>\n",
       "      <td>90</td>\n",
       "      <td>Culinary Arts</td>\n",
       "      <td>90</td>\n",
       "      <td>11</td>\n",
       "    </tr>\n",
       "  </tbody>\n",
       "</table>\n",
       "<p>90 rows × 4 columns</p>\n",
       "</div>"
      ],
      "text/plain": [
       "    class_id             class_name  teacher_id  grade_level\n",
       "0          1            Mathematics           1           10\n",
       "1          2                Science           2           10\n",
       "2          3                English           3           10\n",
       "3          4                History           4           10\n",
       "4          5              Geography           5           10\n",
       "..       ...                    ...         ...          ...\n",
       "85        86  Recreation Management          86           11\n",
       "86        87   Parks and Recreation          87           11\n",
       "87        88       Hotel Management          88           11\n",
       "88        89  Restaurant Management          89           11\n",
       "89        90          Culinary Arts          90           11\n",
       "\n",
       "[90 rows x 4 columns]"
      ]
     },
     "execution_count": 57,
     "metadata": {},
     "output_type": "execute_result"
    }
   ],
   "source": [
    "classes_data"
   ]
  },
  {
   "cell_type": "code",
   "execution_count": 58,
   "id": "1e19fcfd-a6f7-41c2-af12-ecdab042f7a8",
   "metadata": {},
   "outputs": [],
   "source": [
    "# Query data from the 'fees' table\n",
    "cursor.execute('SELECT * FROM fees')"
   ]
  },
  {
   "cell_type": "code",
   "execution_count": 59,
   "id": "ff06fa07-2966-4f98-9d5c-a8b8c2a3911d",
   "metadata": {},
   "outputs": [],
   "source": [
    "#After fetching data from the database we are storing it into Pandas DataFrame\n",
    "fees_data=pd.DataFrame(cursor.fetchall(),columns=[desc[0] for desc in cursor.description])"
   ]
  },
  {
   "cell_type": "code",
   "execution_count": 60,
   "id": "ba819233-e223-4ba5-950e-6e5332869acb",
   "metadata": {},
   "outputs": [
    {
     "data": {
      "text/html": [
       "<div>\n",
       "<style scoped>\n",
       "    .dataframe tbody tr th:only-of-type {\n",
       "        vertical-align: middle;\n",
       "    }\n",
       "\n",
       "    .dataframe tbody tr th {\n",
       "        vertical-align: top;\n",
       "    }\n",
       "\n",
       "    .dataframe thead th {\n",
       "        text-align: right;\n",
       "    }\n",
       "</style>\n",
       "<table border=\"1\" class=\"dataframe\">\n",
       "  <thead>\n",
       "    <tr style=\"text-align: right;\">\n",
       "      <th></th>\n",
       "      <th>fee_id</th>\n",
       "      <th>student_id</th>\n",
       "      <th>amount</th>\n",
       "      <th>due_date</th>\n",
       "      <th>status</th>\n",
       "    </tr>\n",
       "  </thead>\n",
       "  <tbody>\n",
       "    <tr>\n",
       "      <th>0</th>\n",
       "      <td>1</td>\n",
       "      <td>1</td>\n",
       "      <td>1000.00</td>\n",
       "      <td>2024-01-01</td>\n",
       "      <td>Paid</td>\n",
       "    </tr>\n",
       "    <tr>\n",
       "      <th>1</th>\n",
       "      <td>2</td>\n",
       "      <td>2</td>\n",
       "      <td>1500.00</td>\n",
       "      <td>2024-01-02</td>\n",
       "      <td>Unpaid</td>\n",
       "    </tr>\n",
       "    <tr>\n",
       "      <th>2</th>\n",
       "      <td>3</td>\n",
       "      <td>3</td>\n",
       "      <td>1200.00</td>\n",
       "      <td>2024-01-03</td>\n",
       "      <td>Paid</td>\n",
       "    </tr>\n",
       "    <tr>\n",
       "      <th>3</th>\n",
       "      <td>4</td>\n",
       "      <td>4</td>\n",
       "      <td>1300.00</td>\n",
       "      <td>2024-01-04</td>\n",
       "      <td>Unpaid</td>\n",
       "    </tr>\n",
       "    <tr>\n",
       "      <th>4</th>\n",
       "      <td>5</td>\n",
       "      <td>5</td>\n",
       "      <td>1100.00</td>\n",
       "      <td>2024-01-05</td>\n",
       "      <td>Paid</td>\n",
       "    </tr>\n",
       "    <tr>\n",
       "      <th>...</th>\n",
       "      <td>...</td>\n",
       "      <td>...</td>\n",
       "      <td>...</td>\n",
       "      <td>...</td>\n",
       "      <td>...</td>\n",
       "    </tr>\n",
       "    <tr>\n",
       "      <th>79</th>\n",
       "      <td>80</td>\n",
       "      <td>80</td>\n",
       "      <td>1000.00</td>\n",
       "      <td>2024-03-20</td>\n",
       "      <td>Unpaid</td>\n",
       "    </tr>\n",
       "    <tr>\n",
       "      <th>80</th>\n",
       "      <td>81</td>\n",
       "      <td>81</td>\n",
       "      <td>1000.00</td>\n",
       "      <td>2024-03-21</td>\n",
       "      <td>Paid</td>\n",
       "    </tr>\n",
       "    <tr>\n",
       "      <th>81</th>\n",
       "      <td>82</td>\n",
       "      <td>82</td>\n",
       "      <td>1500.00</td>\n",
       "      <td>2024-03-22</td>\n",
       "      <td>Unpaid</td>\n",
       "    </tr>\n",
       "    <tr>\n",
       "      <th>82</th>\n",
       "      <td>83</td>\n",
       "      <td>83</td>\n",
       "      <td>1200.00</td>\n",
       "      <td>2024-03-23</td>\n",
       "      <td>Paid</td>\n",
       "    </tr>\n",
       "    <tr>\n",
       "      <th>83</th>\n",
       "      <td>84</td>\n",
       "      <td>84</td>\n",
       "      <td>1300.00</td>\n",
       "      <td>2024-03-24</td>\n",
       "      <td>Unpaid</td>\n",
       "    </tr>\n",
       "  </tbody>\n",
       "</table>\n",
       "<p>84 rows × 5 columns</p>\n",
       "</div>"
      ],
      "text/plain": [
       "    fee_id  student_id   amount    due_date  status\n",
       "0        1           1  1000.00  2024-01-01    Paid\n",
       "1        2           2  1500.00  2024-01-02  Unpaid\n",
       "2        3           3  1200.00  2024-01-03    Paid\n",
       "3        4           4  1300.00  2024-01-04  Unpaid\n",
       "4        5           5  1100.00  2024-01-05    Paid\n",
       "..     ...         ...      ...         ...     ...\n",
       "79      80          80  1000.00  2024-03-20  Unpaid\n",
       "80      81          81  1000.00  2024-03-21    Paid\n",
       "81      82          82  1500.00  2024-03-22  Unpaid\n",
       "82      83          83  1200.00  2024-03-23    Paid\n",
       "83      84          84  1300.00  2024-03-24  Unpaid\n",
       "\n",
       "[84 rows x 5 columns]"
      ]
     },
     "execution_count": 60,
     "metadata": {},
     "output_type": "execute_result"
    }
   ],
   "source": [
    "fees_data"
   ]
  },
  {
   "cell_type": "code",
   "execution_count": 61,
   "id": "dbf78e3a-8463-4ec4-9543-fe21de466ccb",
   "metadata": {},
   "outputs": [
    {
     "name": "stdout",
     "output_type": "stream",
     "text": [
      "   student_id first_name last_name date_of_birth  gender  address_id  \\\n",
      "0           1       John       Doe    2005-01-01    Male           1   \n",
      "1           2       Jane     Smith    2006-02-02  Female           2   \n",
      "2           3      Alice   Johnson    2007-03-03  Female           3   \n",
      "3           4        Bob  Williams    2005-04-04    Male           4   \n",
      "4           5    Charlie     Brown    2006-05-05    Male           5   \n",
      "\n",
      "  phone_number                       email enrollment_date  class_id  \n",
      "0     555-1234       john.doe1@example.com      2022-09-01         1  \n",
      "1     555-1235     jane.smith2@example.com      2022-09-01         2  \n",
      "2     555-1236  alice.johnson3@example.com      2022-09-01         3  \n",
      "3     555-1237   bob.williams4@example.com      2022-09-01         4  \n",
      "4     555-1238  charlie.brown5@example.com      2022-09-01         5  \n"
     ]
    }
   ],
   "source": [
    "#printing first 5 records from each table\n",
    "print(student_data.head())"
   ]
  },
  {
   "cell_type": "code",
   "execution_count": 62,
   "id": "37f78515-ae9a-440c-a0bd-b57af7596ad1",
   "metadata": {},
   "outputs": [
    {
     "name": "stdout",
     "output_type": "stream",
     "text": [
      "   teacher_id first_name last_name date_of_birth  gender  student_id  \\\n",
      "0           1      Laura    Miller    1980-01-01  Female           1   \n",
      "1           2      James     Brown    1975-02-02    Male           2   \n",
      "2           3      Linda   Johnson    1985-03-03  Female           3   \n",
      "3           4    Michael  Williams    1978-04-04    Male           4   \n",
      "4           5   Patricia     Jones    1982-05-05  Female           5   \n",
      "\n",
      "  phone_number                          email   hire_date  \n",
      "0     555-2101      laura.miller1@example.com  2015-09-01  \n",
      "1     555-2102       james.brown2@example.com  2014-08-15  \n",
      "2     555-2103     linda.johnson3@example.com  2016-07-20  \n",
      "3     555-2104  michael.williams4@example.com  2017-06-10  \n",
      "4     555-2105    patricia.jones5@example.com  2013-05-05  \n"
     ]
    }
   ],
   "source": [
    "print(teachers_data.head())"
   ]
  },
  {
   "cell_type": "code",
   "execution_count": 63,
   "id": "e5e9e887-03b6-4202-a852-0bacb6008b1a",
   "metadata": {},
   "outputs": [
    {
     "name": "stdout",
     "output_type": "stream",
     "text": [
      "   subject_id subject_name  class_id\n",
      "0         101  Mathematics         1\n",
      "1         102      Science         2\n",
      "2         103      English         3\n",
      "3         104      History         4\n",
      "4         105    Geography         5\n"
     ]
    }
   ],
   "source": [
    "print(subjects_data.head())"
   ]
  },
  {
   "cell_type": "code",
   "execution_count": 64,
   "id": "1c01baa5-b040-422c-8d0f-7cf0d1783292",
   "metadata": {},
   "outputs": [
    {
     "name": "stdout",
     "output_type": "stream",
     "text": [
      "   class_id   class_name  teacher_id  grade_level\n",
      "0         1  Mathematics           1           10\n",
      "1         2      Science           2           10\n",
      "2         3      English           3           10\n",
      "3         4      History           4           10\n",
      "4         5    Geography           5           10\n"
     ]
    }
   ],
   "source": [
    "print(classes_data.head())"
   ]
  },
  {
   "cell_type": "code",
   "execution_count": 65,
   "id": "22e4c9b2-d1ee-469a-8935-746e1fe2195e",
   "metadata": {},
   "outputs": [
    {
     "name": "stdout",
     "output_type": "stream",
     "text": [
      "   fee_id  student_id   amount    due_date  status\n",
      "0       1           1  1000.00  2024-01-01    Paid\n",
      "1       2           2  1500.00  2024-01-02  Unpaid\n",
      "2       3           3  1200.00  2024-01-03    Paid\n",
      "3       4           4  1300.00  2024-01-04  Unpaid\n",
      "4       5           5  1100.00  2024-01-05    Paid\n"
     ]
    }
   ],
   "source": [
    "print(fees_data.head())"
   ]
  },
  {
   "cell_type": "code",
   "execution_count": 66,
   "id": "a60091bf-3d65-430a-b5ee-763d84a3bd11",
   "metadata": {},
   "outputs": [
    {
     "name": "stdout",
     "output_type": "stream",
     "text": [
      "       student_id  address_id    class_id\n",
      "count  100.000000  100.000000  100.000000\n",
      "mean    50.500000   50.500000    3.000000\n",
      "std     29.011492   29.011492    1.421338\n",
      "min      1.000000    1.000000    1.000000\n",
      "25%     25.750000   25.750000    2.000000\n",
      "50%     50.500000   50.500000    3.000000\n",
      "75%     75.250000   75.250000    4.000000\n",
      "max    100.000000  100.000000    5.000000\n"
     ]
    }
   ],
   "source": [
    "# Printing the summary statistics of the DataFrame 'student_data'\n",
    "print(student_data.describe())"
   ]
  },
  {
   "cell_type": "markdown",
   "id": "d263406e-d23f-4925-b4fd-9825dd77b598",
   "metadata": {},
   "source": [
    "Step 5:Data cleaning"
   ]
  },
  {
   "cell_type": "code",
   "execution_count": 67,
   "id": "52c8e524-6c16-46f0-836b-4d8d475daa7a",
   "metadata": {},
   "outputs": [
    {
     "name": "stdout",
     "output_type": "stream",
     "text": [
      "0\n",
      "0\n",
      "0\n",
      "0\n",
      "0\n"
     ]
    }
   ],
   "source": [
    "# Print the number of duplicate rows in the DataFrame\n",
    "print(student_data.duplicated().sum())\n",
    "print(teachers_data.duplicated().sum())\n",
    "print(classes_data.duplicated().sum())\n",
    "print(subjects_data.duplicated().sum())\n",
    "print(fees_data.duplicated().sum())"
   ]
  },
  {
   "cell_type": "code",
   "execution_count": 77,
   "id": "b5c70473-edbe-483b-92dc-5b3f8195543d",
   "metadata": {},
   "outputs": [
    {
     "name": "stdout",
     "output_type": "stream",
     "text": [
      "students\n",
      "----------\n",
      "teacher_id       0\n",
      "first_name       0\n",
      "last_name        0\n",
      "date_of_birth    0\n",
      "gender           0\n",
      "student_id       0\n",
      "phone_number     0\n",
      "email            0\n",
      "hire_date        0\n",
      "dtype: int64\n",
      "\n",
      "teachers\n",
      "----------\n",
      "subject_id      0\n",
      "subject_name    0\n",
      "class_id        0\n",
      "dtype: int64\n",
      "\n",
      "classes\n",
      "----------\n",
      "class_id       0\n",
      "class_name     0\n",
      "teacher_id     0\n",
      "grade_level    0\n",
      "dtype: int64\n",
      "\n",
      "fees\n",
      "----------\n",
      "fee_id        0\n",
      "student_id    0\n",
      "amount        0\n",
      "due_date      0\n",
      "status        0\n",
      "dtype: int64\n",
      "\n",
      "subjects\n",
      "----------\n",
      "student_id         0\n",
      "first_name         0\n",
      "last_name          0\n",
      "date_of_birth      0\n",
      "gender             0\n",
      "address_id         0\n",
      "phone_number       0\n",
      "email              0\n",
      "enrollment_date    0\n",
      "class_id           0\n",
      "dtype: int64\n"
     ]
    }
   ],
   "source": [
    "# Check for missing values in the DataFrame and sum them up column-wise\n",
    "# Then print the sum of missing values for each column\n",
    "print(\"students\\n----------\")\n",
    "print(student_data.isnull().sum())\n",
    "print(\"\\nteachers\\n----------\")\n",
    "print(teachers_data.isnull().sum())\n",
    "print(\"\\nclasses\\n----------\")\n",
    "print(classes_data.isnull().sum())\n",
    "print(\"\\nfees\\n----------\")\n",
    "print(fees_data.isnull().sum())\n",
    "print(\"\\nsubjects\\n----------\")\n",
    "print(subjects_data.isnull().sum())"
   ]
  },
  {
   "cell_type": "markdown",
   "id": "ad355045-3a85-4c6a-a662-249e8fd378c5",
   "metadata": {},
   "source": [
    "Step 4 : Query Execution"
   ]
  },
  {
   "cell_type": "code",
   "execution_count": 72,
   "id": "19ccf14d-c7fb-4588-a870-d96a669ee7a7",
   "metadata": {},
   "outputs": [
    {
     "data": {
      "text/html": [
       "<div>\n",
       "<style scoped>\n",
       "    .dataframe tbody tr th:only-of-type {\n",
       "        vertical-align: middle;\n",
       "    }\n",
       "\n",
       "    .dataframe tbody tr th {\n",
       "        vertical-align: top;\n",
       "    }\n",
       "\n",
       "    .dataframe thead th {\n",
       "        text-align: right;\n",
       "    }\n",
       "</style>\n",
       "<table border=\"1\" class=\"dataframe\">\n",
       "  <thead>\n",
       "    <tr style=\"text-align: right;\">\n",
       "      <th></th>\n",
       "      <th>class_id</th>\n",
       "      <th>class_name</th>\n",
       "      <th>teacher_id</th>\n",
       "      <th>grade_level</th>\n",
       "    </tr>\n",
       "  </thead>\n",
       "  <tbody>\n",
       "    <tr>\n",
       "      <th>20</th>\n",
       "      <td>21</td>\n",
       "      <td>Art</td>\n",
       "      <td>21</td>\n",
       "      <td>8</td>\n",
       "    </tr>\n",
       "    <tr>\n",
       "      <th>21</th>\n",
       "      <td>22</td>\n",
       "      <td>Music</td>\n",
       "      <td>22</td>\n",
       "      <td>8</td>\n",
       "    </tr>\n",
       "    <tr>\n",
       "      <th>22</th>\n",
       "      <td>23</td>\n",
       "      <td>Drama</td>\n",
       "      <td>23</td>\n",
       "      <td>8</td>\n",
       "    </tr>\n",
       "    <tr>\n",
       "      <th>28</th>\n",
       "      <td>29</td>\n",
       "      <td>Spanish</td>\n",
       "      <td>29</td>\n",
       "      <td>9</td>\n",
       "    </tr>\n",
       "    <tr>\n",
       "      <th>27</th>\n",
       "      <td>28</td>\n",
       "      <td>Foreign Language</td>\n",
       "      <td>28</td>\n",
       "      <td>9</td>\n",
       "    </tr>\n",
       "    <tr>\n",
       "      <th>...</th>\n",
       "      <td>...</td>\n",
       "      <td>...</td>\n",
       "      <td>...</td>\n",
       "      <td>...</td>\n",
       "    </tr>\n",
       "    <tr>\n",
       "      <th>55</th>\n",
       "      <td>56</td>\n",
       "      <td>Forensic Science</td>\n",
       "      <td>56</td>\n",
       "      <td>11</td>\n",
       "    </tr>\n",
       "    <tr>\n",
       "      <th>43</th>\n",
       "      <td>44</td>\n",
       "      <td>Finance</td>\n",
       "      <td>44</td>\n",
       "      <td>11</td>\n",
       "    </tr>\n",
       "    <tr>\n",
       "      <th>89</th>\n",
       "      <td>90</td>\n",
       "      <td>Culinary Arts</td>\n",
       "      <td>90</td>\n",
       "      <td>11</td>\n",
       "    </tr>\n",
       "    <tr>\n",
       "      <th>13</th>\n",
       "      <td>14</td>\n",
       "      <td>Statistics</td>\n",
       "      <td>14</td>\n",
       "      <td>12</td>\n",
       "    </tr>\n",
       "    <tr>\n",
       "      <th>12</th>\n",
       "      <td>13</td>\n",
       "      <td>Calculus</td>\n",
       "      <td>13</td>\n",
       "      <td>12</td>\n",
       "    </tr>\n",
       "  </tbody>\n",
       "</table>\n",
       "<p>90 rows × 4 columns</p>\n",
       "</div>"
      ],
      "text/plain": [
       "    class_id        class_name  teacher_id  grade_level\n",
       "20        21               Art          21            8\n",
       "21        22             Music          22            8\n",
       "22        23             Drama          23            8\n",
       "28        29           Spanish          29            9\n",
       "27        28  Foreign Language          28            9\n",
       "..       ...               ...         ...          ...\n",
       "55        56  Forensic Science          56           11\n",
       "43        44           Finance          44           11\n",
       "89        90     Culinary Arts          90           11\n",
       "13        14        Statistics          14           12\n",
       "12        13          Calculus          13           12\n",
       "\n",
       "[90 rows x 4 columns]"
      ]
     },
     "execution_count": 72,
     "metadata": {},
     "output_type": "execute_result"
    }
   ],
   "source": [
    "# Sort the DataFrame 'classes_data' by the 'grade_level' column in ascending order\n",
    "classes_data.sort_values(by='grade_level', ascending=True)"
   ]
  },
  {
   "cell_type": "code",
   "execution_count": 76,
   "id": "d4166cd7-5a2e-47ba-9e6a-384953c405e9",
   "metadata": {},
   "outputs": [
    {
     "name": "stdout",
     "output_type": "stream",
     "text": [
      "  status  amount\n",
      "0   paid    1000\n",
      "2   paid    1200\n",
      "4   paid    1400\n",
      "6   paid    1600\n",
      "\n",
      "\n",
      "Total number of paid status is 4\n",
      "\n",
      "\n"
     ]
    }
   ],
   "source": [
    "import pandas as pd\n",
    "\n",
    "# Example data\n",
    "data = {\n",
    "    'status': ['paid', 'unpaid', 'paid', 'unpaid', 'paid','unpaid', 'paid', 'unpaid'],\n",
    "    'amount': [1000, 1100, 1200, 1300, 1400, 1500, 1600, 1700]\n",
    "}\n",
    "\n",
    "# Create the DataFrame\n",
    "fees_data = pd.DataFrame(data)\n",
    "\n",
    "# Filter fees_data DataFrame to include rows where the 'status' column is 'paid'\n",
    "paid_status = fees_data[fees_data['status'] == 'paid']\n",
    "\n",
    "# Print the DataFrame containing only fees with 'paid' status\n",
    "print(paid_status)\n",
    "\n",
    "# Print the total number of rows (fees) in the paid_status DataFrame\n",
    "print(f\"\\n\\nTotal number of paid status is {paid_status.shape[0]}\\n\\n\")\n"
   ]
  },
  {
   "cell_type": "code",
   "execution_count": 71,
   "id": "71761180-8574-4e8b-baa3-fccd78cd31dc",
   "metadata": {},
   "outputs": [
    {
     "name": "stdout",
     "output_type": "stream",
     "text": [
      "The grade_level in the classes table:\n",
      "grade_level\n",
      "11    60\n",
      "9     16\n",
      "10     9\n",
      "8      3\n",
      "12     2\n",
      "Name: count, dtype: int64\n"
     ]
    }
   ],
   "source": [
    "# Count the occurrences of each grade level in the 'grade_level' column\n",
    "grade_level = classes_data['grade_level'].value_counts()\n",
    "\n",
    "# Print a message indicating that the following output represents the grade_level\n",
    "print(\"The grade_level in the classes table:\")\n",
    "\n",
    "# Print the counts of each grade level , sorted in descending order\n",
    "print(grade_level)"
   ]
  },
  {
   "cell_type": "markdown",
   "id": "340c5aa4-c0f4-4166-a9e9-77942fd9e878",
   "metadata": {},
   "source": [
    "step 6:Data Visualization"
   ]
  },
  {
   "cell_type": "code",
   "execution_count": 154,
   "id": "683f7fd8-4b10-4017-88db-3b48e27ac299",
   "metadata": {},
   "outputs": [
    {
     "data": {
      "image/png": "[encoded data removed]",
      "text/plain": [
       "<Figure size 1000x1000 with 1 Axes>"
      ]
     },
     "metadata": {},
     "output_type": "display_data"
    }
   ],
   "source": [
    "# Pie chart for percentage of first name by classid\n",
    "class_id_counts = student_data['class_id'].value_counts() \n",
    "# Count the occurrences of each location\n",
    "plt.figure(figsize=(10,10))  \n",
    "# Set the figure size to 6x6 inches\n",
    "patches, texts, autotexts = plt.pie(class_id_counts.values, labels=class_id_counts.index, startangle=30,autopct='%1.1f%%', pctdistance=0.85) \n",
    "plt.title('Percentage of first name by class id') \n",
    "# Set the title of the chart\n",
    "# Display the chart\n",
    "plt.show()"
   ]
  },
  {
   "cell_type": "code",
   "execution_count": 115,
   "id": "ee3359a3-7e7b-4d89-ad5e-cea3516b6eb9",
   "metadata": {},
   "outputs": [
    {
     "data": {
      "image/png": "[encoded data removed]",
      "text/plain": [
       "<Figure size 1200x800 with 1 Axes>"
      ]
     },
     "metadata": {},
     "output_type": "display_data"
    }
   ],
   "source": [
    "import pandas as pd\n",
    "import matplotlib.pyplot as plt\n",
    "\n",
    "# Sample DataFrame definition for illustration purposes\n",
    "data = {\n",
    "    'subject_name': ['Biology', 'History', 'Geography', 'Science', 'english', 'Mathematics'],\n",
    "    'class_id':  [1, 2, 3, 4, 5, 6],\n",
    "    'subject_id': [101, 112, 121, 142, 157, 178]\n",
    "}\n",
    "\n",
    "# Creating the DataFrame\n",
    "df = pd.DataFrame(data)\n",
    "\n",
    "# Group by subject_name and class_id, then count the number of subject_id in each group\n",
    "subject_name_distribution = df.groupby(['subject_id', 'class_id'])['subject_name'].count().reset_index()\n",
    "\n",
    "# Plot the distribution of students across class_id\n",
    "plt.figure(figsize=(12, 8))\n",
    "plt.bar(subject_name_distribution['class_id'], subject_name_distribution['subject_id'])\n",
    "plt.xlabel('Class ID')\n",
    "plt.ylabel('Number of Subjects')\n",
    "plt.title('Distribution of Subjects across Classes')\n",
    "plt.show()"
   ]
  },
  {
   "cell_type": "code",
   "execution_count": 152,
   "id": "6fd648d4-279d-4801-b5cf-1b9499324e48",
   "metadata": {},
   "outputs": [
    {
     "data": {
      "image/png": "[encoded data removed]",
      "text/plain": [
       "<Figure size 640x480 with 1 Axes>"
      ]
     },
     "metadata": {},
     "output_type": "display_data"
    }
   ],
   "source": [
    "# Plot a pie chart of the status distribution\n",
    "fees_data['status'].value_counts().plot(kind='pie', autopct='%1.1f%%')\n",
    "\n",
    "# Set the title of the plot\n",
    "plt.title(\"status\")\n",
    "\n",
    "# Display the plot\n",
    "plt.show()"
   ]
  },
  {
   "cell_type": "code",
   "execution_count": 127,
   "id": "dce962a1-99fd-469d-a081-a91dffda027e",
   "metadata": {},
   "outputs": [
    {
     "data": {
      "image/png": "[encoded data removed]",
      "text/plain": [
       "<Figure size 1000x700 with 1 Axes>"
      ]
     },
     "metadata": {},
     "output_type": "display_data"
    }
   ],
   "source": [
    "# Extract data for the pie chart\n",
    "class_name = ['mathematics','science','english','history','geography']\n",
    "class_id = [1,2,3,4,5]  # Assuming class_id represents count, otherwise adjust\n",
    "# Generate pie chart\n",
    "plt.figure(figsize=(10, 7))\n",
    "plt.pie(class_id, labels=class_name, autopct='%1.1f%%', startangle=140)\n",
    "plt.title('Class Distribution')\n",
    "plt.axis('equal')  # Equal aspect ratio ensures that pie is drawn as a circle.\n",
    "plt.show()"
   ]
  },
  {
   "cell_type": "markdown",
   "id": "4182069d-00f8-4833-8304-5b542697ff82",
   "metadata": {},
   "source": [
    "Conclusion:"
   ]
  },
  {
   "cell_type": "markdown",
   "id": "958d61d0-0283-4118-a533-037b4861862a",
   "metadata": {},
   "source": [
    "An effective school management system leverages data analysis to enhance decision-making, operational efficiency, and educational outcomes. Key elements include ensuring data completeness and accuracy, utilizing grouping and aggregation for insightful summaries, and employing visualizations for clear communication. Addressing errors methodically and continuously improving data practices are vital. Utilizing tools like pandas and matplotlib, along with regular training and automation, can significantly optimize the process. Ultimately, this approach leads to a more informed, efficient, and responsive school management system."
   ]
  },
  {
   "cell_type": "code",
   "execution_count": null,
   "id": "e11541b7-8294-435f-b9f3-19ae3b3821d6",
   "metadata": {},
   "outputs": [],
   "source": []
  }
 ],
 "metadata": {
  "kernelspec": {
   "display_name": "Python 3 (ipykernel)",
   "language": "python",
   "name": "python3"
  },
  "language_info": {
   "codemirror_mode": {
    "name": "ipython",
    "version": 3
   },
   "file_extension": ".py",
   "mimetype": "text/x-python",
   "name": "python",
   "nbconvert_exporter": "python",
   "pygments_lexer": "ipython3",
   "version": "3.11.7"
  }
 },
 "nbformat": 4,
 "nbformat_minor": 5
}
